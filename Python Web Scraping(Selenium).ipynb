{
 "cells": [
  {
   "cell_type": "markdown",
   "id": "835ee599",
   "metadata": {},
   "source": [
    "## Importing the neccessary libraries and setting up EdgeOption"
   ]
  },
  {
   "cell_type": "code",
   "execution_count": 1,
   "id": "d6d459c3",
   "metadata": {},
   "outputs": [],
   "source": [
    "import selenium\n",
    "from selenium import webdriver\n",
    "from selenium.webdriver.common.by import By\n",
    "from selenium.webdriver.common.keys import Keys\n",
    "from time import sleep\n",
    "from getpass import getpass\n",
    "from selenium.common.exceptions import NoSuchElementException\n",
    "from msedge.selenium_tools import Edge,EdgeOptions"
   ]
  },
  {
   "cell_type": "code",
   "execution_count": 2,
   "id": "c4b1831d",
   "metadata": {},
   "outputs": [
    {
     "name": "stderr",
     "output_type": "stream",
     "text": [
      "<ipython-input-2-e3ed45f20b59>:3: DeprecationWarning: Selenium Tools for Microsoft Edge is deprecated. Please upgrade to Selenium 4 which has built-in support for Microsoft Edge (Chromium): https://docs.microsoft.com/en-us/microsoft-edge/webdriver-chromium/#upgrading-from-selenium-3\n",
      "  driver = Edge(options=options)\n"
     ]
    }
   ],
   "source": [
    "options = EdgeOptions()\n",
    "options.use_chromium = True\n",
    "driver = Edge(options=options)"
   ]
  },
  {
   "cell_type": "code",
   "execution_count": 3,
   "id": "6ff942fe",
   "metadata": {},
   "outputs": [],
   "source": [
    "driver.get('https://twitter.com/login')"
   ]
  },
  {
   "cell_type": "code",
   "execution_count": 47,
   "id": "8b45ee49",
   "metadata": {},
   "outputs": [],
   "source": [
    "sleep(3)"
   ]
  },
  {
   "cell_type": "markdown",
   "id": "fa76bd06",
   "metadata": {},
   "source": [
    "## Signed in to my twitter account "
   ]
  },
  {
   "cell_type": "code",
   "execution_count": 48,
   "id": "8543dc28",
   "metadata": {},
   "outputs": [],
   "source": [
    "username = driver.find_element_by_xpath(\"//input[@name='text']\")\n",
    "username.send_keys('popsyynn')"
   ]
  },
  {
   "cell_type": "code",
   "execution_count": 49,
   "id": "7461f63b",
   "metadata": {},
   "outputs": [],
   "source": [
    "next_button = driver.find_element_by_xpath(\"//span[contains(text(),'Next')]\")\n",
    "next_button.click()"
   ]
  },
  {
   "cell_type": "code",
   "execution_count": 50,
   "id": "86cdb6ec",
   "metadata": {},
   "outputs": [
    {
     "name": "stdout",
     "output_type": "stream",
     "text": [
      "········\n"
     ]
    }
   ],
   "source": [
    "my_password = getpass()"
   ]
  },
  {
   "cell_type": "code",
   "execution_count": 51,
   "id": "778404e6",
   "metadata": {},
   "outputs": [],
   "source": [
    "password = driver.find_element_by_xpath(\"//input[@name='password']\")\n",
    "password.send_keys(my_password)"
   ]
  },
  {
   "cell_type": "code",
   "execution_count": 52,
   "id": "e3540b6c",
   "metadata": {},
   "outputs": [],
   "source": [
    "password.send_keys(Keys.RETURN)"
   ]
  },
  {
   "cell_type": "code",
   "execution_count": 53,
   "id": "eed5ec33",
   "metadata": {},
   "outputs": [],
   "source": [
    "search_input = driver.find_element_by_xpath(\"//input[@aria-label='Search query']\")\n",
    "search_input.send_keys('Ronaldo')"
   ]
  },
  {
   "cell_type": "code",
   "execution_count": 54,
   "id": "6789c518",
   "metadata": {},
   "outputs": [],
   "source": [
    "search_input.send_keys(Keys.RETURN)"
   ]
  },
  {
   "cell_type": "code",
   "execution_count": 55,
   "id": "612fa0ee",
   "metadata": {},
   "outputs": [],
   "source": [
    "people = driver.find_element_by_xpath(\"//span[contains(text(),'People')]\")\n",
    "people.click()"
   ]
  },
  {
   "cell_type": "code",
   "execution_count": 56,
   "id": "20e2c4c0",
   "metadata": {},
   "outputs": [],
   "source": [
    "profile = driver.find_element_by_xpath(\"//*[@id='react-root']/div/div/div[2]/main/div/div/div/div/div/div[3]/div/section/div/div/div[1]/div/div/div/div/div[2]/div[1]/div[1]/div/div[1]/a/div/div[1]/span/span\")\n",
    "profile.click()"
   ]
  },
  {
   "cell_type": "markdown",
   "id": "45b5fa28",
   "metadata": {},
   "source": [
    "## Scraping of data"
   ]
  },
  {
   "cell_type": "code",
   "execution_count": 57,
   "id": "1860942d",
   "metadata": {},
   "outputs": [],
   "source": [
    "UserTag =  driver.find_element_by_xpath('//div[@data-testid=\"User-Names\"]').text"
   ]
  },
  {
   "cell_type": "code",
   "execution_count": 58,
   "id": "010537a6",
   "metadata": {},
   "outputs": [
    {
     "name": "stdout",
     "output_type": "stream",
     "text": [
      "Cristiano Ronaldo\n",
      "@Cristiano\n",
      "·\n",
      "24 Sep\n"
     ]
    }
   ],
   "source": [
    "print(UserTag)"
   ]
  },
  {
   "cell_type": "code",
   "execution_count": 59,
   "id": "96bba709",
   "metadata": {},
   "outputs": [],
   "source": [
    "Time_stamp = driver.find_element_by_xpath('//time').get_attribute('datetime')"
   ]
  },
  {
   "cell_type": "code",
   "execution_count": 60,
   "id": "8432674b",
   "metadata": {},
   "outputs": [
    {
     "name": "stdout",
     "output_type": "stream",
     "text": [
      "2022-09-24T21:38:35.000Z\n"
     ]
    }
   ],
   "source": [
    "print(Time_stamp)"
   ]
  },
  {
   "cell_type": "code",
   "execution_count": 61,
   "id": "c6cfaa4e",
   "metadata": {},
   "outputs": [],
   "source": [
    "Tweet = driver.find_element_by_xpath('//div[@data-testid=\"tweetText\"]').text"
   ]
  },
  {
   "cell_type": "code",
   "execution_count": 62,
   "id": "4a80d8ac",
   "metadata": {},
   "outputs": [
    {
     "data": {
      "text/plain": [
       "'Grande jogo, importante vitória equipa!Continuamos focados no nosso objetivo \\nObrigado ao público português pelo apoio fantástico.'"
      ]
     },
     "execution_count": 62,
     "metadata": {},
     "output_type": "execute_result"
    }
   ],
   "source": [
    "Tweet"
   ]
  },
  {
   "cell_type": "code",
   "execution_count": 63,
   "id": "82ac620e",
   "metadata": {},
   "outputs": [],
   "source": [
    "Reply = driver.find_element_by_xpath('//div[@data-testid=\"reply\"]').text\n",
    "Retweet = driver.find_element_by_xpath('//div[@data-testid=\"retweet\"]').text\n",
    "Like = driver.find_element_by_xpath('//div[@data-testid=\"like\"]').text"
   ]
  },
  {
   "cell_type": "code",
   "execution_count": 64,
   "id": "d7b2a62a",
   "metadata": {},
   "outputs": [
    {
     "name": "stdout",
     "output_type": "stream",
     "text": [
      "Cristiano Ronaldo\n",
      "@Cristiano\n",
      "·\n",
      "24 Sep\n",
      "2022-09-24T21:38:35.000Z\n",
      "13.2K\n",
      "11.3K\n",
      "182.6K\n"
     ]
    }
   ],
   "source": [
    "print(UserTag)\n",
    "print(Time_stamp)\n",
    "print(Reply)\n",
    "print(Retweet)\n",
    "print(Like)"
   ]
  },
  {
   "cell_type": "code",
   "execution_count": 73,
   "id": "934dd265",
   "metadata": {},
   "outputs": [],
   "source": [
    "articles = driver.find_elements_by_xpath('//article[@data-testid=\"tweet\"]')"
   ]
  },
  {
   "cell_type": "code",
   "execution_count": 74,
   "id": "dca9bc70",
   "metadata": {},
   "outputs": [
    {
     "data": {
      "text/plain": [
       "4"
      ]
     },
     "execution_count": 74,
     "metadata": {},
     "output_type": "execute_result"
    }
   ],
   "source": [
    "len(articles)"
   ]
  },
  {
   "cell_type": "code",
   "execution_count": 75,
   "id": "6306d2f8",
   "metadata": {},
   "outputs": [],
   "source": [
    "Usertags = []\n",
    "Timestamps=[]\n",
    "Tweets = []\n",
    "Replies=[]\n",
    "Retweets=[]\n",
    "Likes = []"
   ]
  },
  {
   "cell_type": "code",
   "execution_count": 79,
   "id": "4d529450",
   "metadata": {},
   "outputs": [],
   "source": [
    "articles = driver.find_elements_by_xpath('//article[@data-testid=\"tweet\"]')\n",
    "while True:\n",
    "    for article in articles:\n",
    "        UserTag =  driver.find_element_by_xpath('.//div[@data-testid=\"User-Names\"]').text\n",
    "        Usertags.append(UserTag)\n",
    "        Time_stamp = driver.find_element_by_xpath('.//time').get_attribute('datetime')\n",
    "        Timestamps.append(Time_stamp)\n",
    "        Tweet = driver.find_element_by_xpath('.//div[@data-testid=\"tweetText\"]').text\n",
    "        Tweets.append(Tweet)\n",
    "        Reply = driver.find_element_by_xpath('.//div[@data-testid=\"reply\"]').text\n",
    "        Replies.append(Reply)\n",
    "        Retweet = driver.find_element_by_xpath('.//div[@data-testid=\"retweet\"]').text\n",
    "        Retweets.append(Retweet)\n",
    "        Like = driver.find_element_by_xpath('.//div[@data-testid=\"like\"]').text\n",
    "        Likes.append(Like)\n",
    "    driver.execute_script('window.scrollTo(0,document.body.scrollHeight);')\n",
    "    articles = driver.find_elements_by_xpath('//article[@data-testid=\"tweet\"]')\n",
    "    Tweets2 = list(set(Tweets))\n",
    "    if len(Tweets2)>5:\n",
    "        break"
   ]
  },
  {
   "cell_type": "code",
   "execution_count": 80,
   "id": "89de2530",
   "metadata": {},
   "outputs": [
    {
     "name": "stdout",
     "output_type": "stream",
     "text": [
      "['Cristiano Ronaldo\\n@Cristiano\\n·\\n24 Sep', 'Cristiano Ronaldo\\n@Cristiano\\n·\\n24 Sep', 'Cristiano Ronaldo\\n@Cristiano\\n·\\n24 Sep', 'Cristiano Ronaldo\\n@Cristiano\\n·\\n24 Sep', 'Cristiano Ronaldo\\n@Cristiano\\n·\\n24 Sep', 'Cristiano Ronaldo\\n@Cristiano\\n·\\n24 Sep', 'Cristiano Ronaldo\\n@Cristiano\\n·\\n24 Sep', 'Cristiano Ronaldo\\n@Cristiano\\n·\\n24 Sep', 'Cristiano Ronaldo\\n@Cristiano\\n·\\n30 Apr', 'Cristiano Ronaldo\\n@Cristiano\\n·\\n12 May', 'Cristiano Ronaldo\\n@Cristiano\\n·\\n12 May', 'Cristiano Ronaldo\\n@Cristiano\\n·\\n12 May', 'Cristiano Ronaldo\\n@Cristiano\\n·\\n9 May', 'Cristiano Ronaldo\\n@Cristiano\\n·\\n9 May', 'Cristiano Ronaldo\\n@Cristiano\\n·\\n9 May', 'Cristiano Ronaldo\\n@Cristiano\\n·\\n9 May', 'Cristiano Ronaldo\\n@Cristiano\\n·\\n9 May', 'Cristiano Ronaldo\\n@Cristiano\\n·\\n9 May', 'Cristiano Ronaldo\\n@Cristiano\\n·\\n9 May', 'Cristiano Ronaldo\\n@Cristiano\\n·\\n9 May', 'Cristiano Ronaldo\\n@Cristiano\\n·\\n9 May', 'Cristiano Ronaldo\\n@Cristiano\\n·\\n18 Dec 2021', 'Cristiano Ronaldo\\n@Cristiano\\n·\\n18 Dec 2021', 'Cristiano Ronaldo\\n@Cristiano\\n·\\n18 Dec 2021', 'Cristiano Ronaldo\\n@Cristiano\\n·\\n18 Dec 2021', 'Cristiano Ronaldo\\n@Cristiano\\n·\\n18 Dec 2021', 'Cristiano Ronaldo\\n@Cristiano\\n·\\n18 Dec 2021', 'Cristiano Ronaldo\\n@Cristiano\\n·\\n18 Dec 2021', 'Cristiano Ronaldo\\n@Cristiano\\n·\\n13 Dec 2021', 'Cristiano Ronaldo\\n@Cristiano\\n·\\n13 Dec 2021', 'Cristiano Ronaldo\\n@Cristiano\\n·\\n13 Dec 2021', 'Cristiano Ronaldo\\n@Cristiano\\n·\\n13 Dec 2021', 'Cristiano Ronaldo\\n@Cristiano\\n·\\n13 Dec 2021', 'Cristiano Ronaldo\\n@Cristiano\\n·\\n30 Aug 2021', 'Cristiano Ronaldo\\n@Cristiano\\n·\\n30 Aug 2021', 'Cristiano Ronaldo\\n@Cristiano\\n·\\n30 Aug 2021']\n",
      "['2022-09-24T21:38:35.000Z', '2022-09-24T21:38:35.000Z', '2022-09-24T21:38:35.000Z', '2022-09-24T21:38:35.000Z', '2022-09-24T21:38:35.000Z', '2022-09-24T21:38:35.000Z', '2022-09-24T21:38:35.000Z', '2022-09-24T21:38:35.000Z', '2022-05-12T17:54:32.000Z', '2022-05-12T17:54:32.000Z', '2022-05-12T17:54:32.000Z', '2022-05-12T17:54:32.000Z', '2022-05-09T10:32:07.000Z', '2022-05-09T10:32:07.000Z', '2022-05-09T10:32:07.000Z', '2022-05-09T10:32:07.000Z', '2022-05-09T10:32:07.000Z', '2022-05-09T10:32:07.000Z', '2022-05-09T10:32:07.000Z', '2022-05-09T10:32:07.000Z', '2022-05-09T10:32:07.000Z', '2021-12-18T10:39:17.000Z', '2021-12-18T10:39:17.000Z', '2021-12-18T10:39:17.000Z', '2021-12-18T10:39:17.000Z', '2021-12-18T10:39:17.000Z', '2021-12-18T10:39:17.000Z', '2021-12-18T10:39:17.000Z', '2021-12-13T12:04:26.000Z', '2021-12-13T12:04:26.000Z', '2021-12-13T12:04:26.000Z', '2021-12-13T12:04:26.000Z', '2021-12-13T12:04:26.000Z', '2021-08-30T19:47:56.000Z', '2021-08-30T19:47:56.000Z', '2021-08-30T19:47:56.000Z']\n",
      "['Grande jogo, importante vitória equipa!Continuamos focados no nosso objetivo \\nObrigado ao público português pelo apoio fantástico.', 'Grande jogo, importante vitória equipa!Continuamos focados no nosso objetivo \\nObrigado ao público português pelo apoio fantástico.', 'Grande jogo, importante vitória equipa!Continuamos focados no nosso objetivo \\nObrigado ao público português pelo apoio fantástico.', 'Grande jogo, importante vitória equipa!Continuamos focados no nosso objetivo \\nObrigado ao público português pelo apoio fantástico.', 'Grande jogo, importante vitória equipa!Continuamos focados no nosso objetivo \\nObrigado ao público português pelo apoio fantástico.', 'Grande jogo, importante vitória equipa!Continuamos focados no nosso objetivo \\nObrigado ao público português pelo apoio fantástico.', 'Grande jogo, importante vitória equipa!Continuamos focados no nosso objetivo \\nObrigado ao público português pelo apoio fantástico.', 'Grande jogo, importante vitória equipa!Continuamos focados no nosso objetivo \\nObrigado ao público português pelo apoio fantástico.', 'My 2nd Premier League Player Of The Month Award, the 6th in my career. I’m as happy to win today as I was in my early days, the hunger for victory and achievements never fades away. Thanks to everyone that made this possible. ', 'My 2nd Premier League Player Of The Month Award, the 6th in my career. I’m as happy to win today as I was in my early days, the hunger for victory and achievements never fades away. Thanks to everyone that made this possible. ', 'My 2nd Premier League Player Of The Month Award, the 6th in my career. I’m as happy to win today as I was in my early days, the hunger for victory and achievements never fades away. Thanks to everyone that made this possible. ', 'My 2nd Premier League Player Of The Month Award, the 6th in my career. I’m as happy to win today as I was in my early days, the hunger for victory and achievements never fades away. Thanks to everyone that made this possible. ', 'Always good to be with my Bro’s ', 'Always good to be with my Bro’s ', 'Always good to be with my Bro’s ', 'Always good to be with my Bro’s ', 'Always good to be with my Bro’s ', 'Always good to be with my Bro’s ', 'Always good to be with my Bro’s ', 'Always good to be with my Bro’s ', 'Always good to be with my Bro’s ', 'Never stop dreaming.\\nWatch my chat with Sir Alex now \\n#MUFC #BringingYouCloser', 'Never stop dreaming.\\nWatch my chat with Sir Alex now \\n#MUFC #BringingYouCloser', 'Never stop dreaming.\\nWatch my chat with Sir Alex now \\n#MUFC #BringingYouCloser', 'Never stop dreaming.\\nWatch my chat with Sir Alex now \\n#MUFC #BringingYouCloser', 'Never stop dreaming.\\nWatch my chat with Sir Alex now \\n#MUFC #BringingYouCloser', 'Never stop dreaming.\\nWatch my chat with Sir Alex now \\n#MUFC #BringingYouCloser', 'Never stop dreaming.\\nWatch my chat with Sir Alex now \\n#MUFC #BringingYouCloser', '', '', '', '', '', 'É sempre um orgulho voltar à seleção e representar o nosso país!', 'É sempre um orgulho voltar à seleção e representar o nosso país!', 'É sempre um orgulho voltar à seleção e representar o nosso país!']\n",
      "['13.2K', '13.2K', '13.2K', '13.2K', '13.2K', '13.2K', '13.2K', '13.2K', '6,501', '6,501', '6,501', '6,501', '5,277', '5,277', '5,277', '5,277', '5,277', '5,277', '5,277', '5,277', '5,277', '1,225', '1,225', '1,225', '1,225', '1,225', '1,225', '1,225', '2,965', '2,965', '2,965', '2,965', '2,965', '4,356', '4,356', '4,356']\n",
      "['11.3K', '11.3K', '11.3K', '11.3K', '11.3K', '11.3K', '11.3K', '11.3K', '24.4K', '24.4K', '24.4K', '24.4K', '14.2K', '14.2K', '14.2K', '14.2K', '14.2K', '14.2K', '14.2K', '14.2K', '14.2K', '4,585', '4,585', '4,585', '4,585', '4,585', '4,585', '4,585', '4,619', '4,619', '4,619', '4,619', '4,619', '17.3K', '17.3K', '17.3K']\n",
      "['182.6K', '182.6K', '182.6K', '182.6K', '182.7K', '182.7K', '182.7K', '182.7K', '337.1K', '337.1K', '337.1K', '428.9K', '428.9K', '428.9K', '428.9K', '428.9K', '428.9K', '428.9K', '428.9K', '428.9K', '59.8K', '59.8K', '59.8K', '59.8K', '59.8K', '59.8K', '59.8K', '81.8K', '81.8K', '81.8K', '81.8K', '81.8K', '324.8K', '324.8K', '324.8K']\n"
     ]
    }
   ],
   "source": [
    "print(Usertags)\n",
    "print(Timestamps)\n",
    "print(Tweets)\n",
    "print(Replies)\n",
    "print(Retweets)\n",
    "print(Likes)"
   ]
  },
  {
   "cell_type": "code",
   "execution_count": 82,
   "id": "5e02920a",
   "metadata": {},
   "outputs": [
    {
     "data": {
      "text/plain": [
       "6"
      ]
     },
     "execution_count": 82,
     "metadata": {},
     "output_type": "execute_result"
    }
   ],
   "source": [
    "len(set(Tweets))"
   ]
  },
  {
   "cell_type": "code",
   "execution_count": 83,
   "id": "a6085b46",
   "metadata": {},
   "outputs": [],
   "source": [
    "import pandas as pd"
   ]
  },
  {
   "cell_type": "code",
   "execution_count": 84,
   "id": "dc5e16ac",
   "metadata": {},
   "outputs": [],
   "source": [
    "data = pd.DataFrame(zip(Usertags,Timestamps,Tweets,Replies,Retweets,Likes),columns=['Usertags','Timestamps','Tweets','Replies','Retweets','Likes'])"
   ]
  },
  {
   "cell_type": "code",
   "execution_count": 90,
   "id": "c048da03",
   "metadata": {},
   "outputs": [],
   "source": [
    "data = data.drop_duplicates()"
   ]
  },
  {
   "cell_type": "code",
   "execution_count": 91,
   "id": "55626e5a",
   "metadata": {},
   "outputs": [
    {
     "data": {
      "text/html": [
       "<div>\n",
       "<style scoped>\n",
       "    .dataframe tbody tr th:only-of-type {\n",
       "        vertical-align: middle;\n",
       "    }\n",
       "\n",
       "    .dataframe tbody tr th {\n",
       "        vertical-align: top;\n",
       "    }\n",
       "\n",
       "    .dataframe thead th {\n",
       "        text-align: right;\n",
       "    }\n",
       "</style>\n",
       "<table border=\"1\" class=\"dataframe\">\n",
       "  <thead>\n",
       "    <tr style=\"text-align: right;\">\n",
       "      <th></th>\n",
       "      <th>Usertags</th>\n",
       "      <th>Timestamps</th>\n",
       "      <th>Tweets</th>\n",
       "      <th>Replies</th>\n",
       "      <th>Retweets</th>\n",
       "      <th>Likes</th>\n",
       "    </tr>\n",
       "  </thead>\n",
       "  <tbody>\n",
       "    <tr>\n",
       "      <th>0</th>\n",
       "      <td>Cristiano Ronaldo\\n@Cristiano\\n·\\n24 Sep</td>\n",
       "      <td>2022-09-24T21:38:35.000Z</td>\n",
       "      <td>Grande jogo, importante vitória equipa!Continu...</td>\n",
       "      <td>13.2K</td>\n",
       "      <td>11.3K</td>\n",
       "      <td>182.6K</td>\n",
       "    </tr>\n",
       "    <tr>\n",
       "      <th>4</th>\n",
       "      <td>Cristiano Ronaldo\\n@Cristiano\\n·\\n24 Sep</td>\n",
       "      <td>2022-09-24T21:38:35.000Z</td>\n",
       "      <td>Grande jogo, importante vitória equipa!Continu...</td>\n",
       "      <td>13.2K</td>\n",
       "      <td>11.3K</td>\n",
       "      <td>182.7K</td>\n",
       "    </tr>\n",
       "    <tr>\n",
       "      <th>8</th>\n",
       "      <td>Cristiano Ronaldo\\n@Cristiano\\n·\\n30 Apr</td>\n",
       "      <td>2022-05-12T17:54:32.000Z</td>\n",
       "      <td>My 2nd Premier League Player Of The Month Awar...</td>\n",
       "      <td>6,501</td>\n",
       "      <td>24.4K</td>\n",
       "      <td>337.1K</td>\n",
       "    </tr>\n",
       "    <tr>\n",
       "      <th>9</th>\n",
       "      <td>Cristiano Ronaldo\\n@Cristiano\\n·\\n12 May</td>\n",
       "      <td>2022-05-12T17:54:32.000Z</td>\n",
       "      <td>My 2nd Premier League Player Of The Month Awar...</td>\n",
       "      <td>6,501</td>\n",
       "      <td>24.4K</td>\n",
       "      <td>337.1K</td>\n",
       "    </tr>\n",
       "    <tr>\n",
       "      <th>11</th>\n",
       "      <td>Cristiano Ronaldo\\n@Cristiano\\n·\\n12 May</td>\n",
       "      <td>2022-05-12T17:54:32.000Z</td>\n",
       "      <td>My 2nd Premier League Player Of The Month Awar...</td>\n",
       "      <td>6,501</td>\n",
       "      <td>24.4K</td>\n",
       "      <td>428.9K</td>\n",
       "    </tr>\n",
       "    <tr>\n",
       "      <th>12</th>\n",
       "      <td>Cristiano Ronaldo\\n@Cristiano\\n·\\n9 May</td>\n",
       "      <td>2022-05-09T10:32:07.000Z</td>\n",
       "      <td>Always good to be with my Bro’s</td>\n",
       "      <td>5,277</td>\n",
       "      <td>14.2K</td>\n",
       "      <td>428.9K</td>\n",
       "    </tr>\n",
       "    <tr>\n",
       "      <th>20</th>\n",
       "      <td>Cristiano Ronaldo\\n@Cristiano\\n·\\n9 May</td>\n",
       "      <td>2022-05-09T10:32:07.000Z</td>\n",
       "      <td>Always good to be with my Bro’s</td>\n",
       "      <td>5,277</td>\n",
       "      <td>14.2K</td>\n",
       "      <td>59.8K</td>\n",
       "    </tr>\n",
       "    <tr>\n",
       "      <th>21</th>\n",
       "      <td>Cristiano Ronaldo\\n@Cristiano\\n·\\n18 Dec 2021</td>\n",
       "      <td>2021-12-18T10:39:17.000Z</td>\n",
       "      <td>Never stop dreaming.\\nWatch my chat with Sir A...</td>\n",
       "      <td>1,225</td>\n",
       "      <td>4,585</td>\n",
       "      <td>59.8K</td>\n",
       "    </tr>\n",
       "    <tr>\n",
       "      <th>27</th>\n",
       "      <td>Cristiano Ronaldo\\n@Cristiano\\n·\\n18 Dec 2021</td>\n",
       "      <td>2021-12-18T10:39:17.000Z</td>\n",
       "      <td>Never stop dreaming.\\nWatch my chat with Sir A...</td>\n",
       "      <td>1,225</td>\n",
       "      <td>4,585</td>\n",
       "      <td>81.8K</td>\n",
       "    </tr>\n",
       "    <tr>\n",
       "      <th>28</th>\n",
       "      <td>Cristiano Ronaldo\\n@Cristiano\\n·\\n13 Dec 2021</td>\n",
       "      <td>2021-12-13T12:04:26.000Z</td>\n",
       "      <td></td>\n",
       "      <td>2,965</td>\n",
       "      <td>4,619</td>\n",
       "      <td>81.8K</td>\n",
       "    </tr>\n",
       "    <tr>\n",
       "      <th>32</th>\n",
       "      <td>Cristiano Ronaldo\\n@Cristiano\\n·\\n13 Dec 2021</td>\n",
       "      <td>2021-12-13T12:04:26.000Z</td>\n",
       "      <td></td>\n",
       "      <td>2,965</td>\n",
       "      <td>4,619</td>\n",
       "      <td>324.8K</td>\n",
       "    </tr>\n",
       "    <tr>\n",
       "      <th>33</th>\n",
       "      <td>Cristiano Ronaldo\\n@Cristiano\\n·\\n30 Aug 2021</td>\n",
       "      <td>2021-08-30T19:47:56.000Z</td>\n",
       "      <td>É sempre um orgulho voltar à seleção e represe...</td>\n",
       "      <td>4,356</td>\n",
       "      <td>17.3K</td>\n",
       "      <td>324.8K</td>\n",
       "    </tr>\n",
       "  </tbody>\n",
       "</table>\n",
       "</div>"
      ],
      "text/plain": [
       "                                         Usertags                Timestamps  \\\n",
       "0        Cristiano Ronaldo\\n@Cristiano\\n·\\n24 Sep  2022-09-24T21:38:35.000Z   \n",
       "4        Cristiano Ronaldo\\n@Cristiano\\n·\\n24 Sep  2022-09-24T21:38:35.000Z   \n",
       "8        Cristiano Ronaldo\\n@Cristiano\\n·\\n30 Apr  2022-05-12T17:54:32.000Z   \n",
       "9        Cristiano Ronaldo\\n@Cristiano\\n·\\n12 May  2022-05-12T17:54:32.000Z   \n",
       "11       Cristiano Ronaldo\\n@Cristiano\\n·\\n12 May  2022-05-12T17:54:32.000Z   \n",
       "12        Cristiano Ronaldo\\n@Cristiano\\n·\\n9 May  2022-05-09T10:32:07.000Z   \n",
       "20        Cristiano Ronaldo\\n@Cristiano\\n·\\n9 May  2022-05-09T10:32:07.000Z   \n",
       "21  Cristiano Ronaldo\\n@Cristiano\\n·\\n18 Dec 2021  2021-12-18T10:39:17.000Z   \n",
       "27  Cristiano Ronaldo\\n@Cristiano\\n·\\n18 Dec 2021  2021-12-18T10:39:17.000Z   \n",
       "28  Cristiano Ronaldo\\n@Cristiano\\n·\\n13 Dec 2021  2021-12-13T12:04:26.000Z   \n",
       "32  Cristiano Ronaldo\\n@Cristiano\\n·\\n13 Dec 2021  2021-12-13T12:04:26.000Z   \n",
       "33  Cristiano Ronaldo\\n@Cristiano\\n·\\n30 Aug 2021  2021-08-30T19:47:56.000Z   \n",
       "\n",
       "                                               Tweets Replies Retweets   Likes  \n",
       "0   Grande jogo, importante vitória equipa!Continu...   13.2K    11.3K  182.6K  \n",
       "4   Grande jogo, importante vitória equipa!Continu...   13.2K    11.3K  182.7K  \n",
       "8   My 2nd Premier League Player Of The Month Awar...   6,501    24.4K  337.1K  \n",
       "9   My 2nd Premier League Player Of The Month Awar...   6,501    24.4K  337.1K  \n",
       "11  My 2nd Premier League Player Of The Month Awar...   6,501    24.4K  428.9K  \n",
       "12                   Always good to be with my Bro’s    5,277    14.2K  428.9K  \n",
       "20                   Always good to be with my Bro’s    5,277    14.2K   59.8K  \n",
       "21  Never stop dreaming.\\nWatch my chat with Sir A...   1,225    4,585   59.8K  \n",
       "27  Never stop dreaming.\\nWatch my chat with Sir A...   1,225    4,585   81.8K  \n",
       "28                                                      2,965    4,619   81.8K  \n",
       "32                                                      2,965    4,619  324.8K  \n",
       "33  É sempre um orgulho voltar à seleção e represe...   4,356    17.3K  324.8K  "
      ]
     },
     "execution_count": 91,
     "metadata": {},
     "output_type": "execute_result"
    }
   ],
   "source": [
    "data"
   ]
  },
  {
   "cell_type": "code",
   "execution_count": 92,
   "id": "5a6ce5f7",
   "metadata": {},
   "outputs": [],
   "source": [
    "data.to_csv('C:\\\\Users\\\\user\\\\Documents\\\\datasets\\\\tweet.csv',index = False)"
   ]
  },
  {
   "cell_type": "code",
   "execution_count": null,
   "id": "699a40d6",
   "metadata": {},
   "outputs": [],
   "source": []
  }
 ],
 "metadata": {
  "kernelspec": {
   "display_name": "Python 3",
   "language": "python",
   "name": "python3"
  },
  "language_info": {
   "codemirror_mode": {
    "name": "ipython",
    "version": 3
   },
   "file_extension": ".py",
   "mimetype": "text/x-python",
   "name": "python",
   "nbconvert_exporter": "python",
   "pygments_lexer": "ipython3",
   "version": "3.8.8"
  }
 },
 "nbformat": 4,
 "nbformat_minor": 5
}
